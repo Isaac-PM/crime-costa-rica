{
 "cells": [
  {
   "cell_type": "code",
   "execution_count": 1,
   "metadata": {},
   "outputs": [],
   "source": [
    "from sqlalchemy.engine import create_engine\n",
    "from pandas.io import sql\n",
    "import sqlite3\n",
    "import pandas as pd\n",
    "\n",
    "%load_ext sql\n",
    "%sql sqlite:///crimen.db\n",
    "\n",
    "global database\n",
    "database = \"crimen.db\"\n",
    "\n",
    "def result_query_run(query):\n",
    "    connection = None\n",
    "    result = None\n",
    "    try:\n",
    "        connection = sqlite3.connect(database)\n",
    "        result = pd.read_sql_query(query, connection)\n",
    "        connection.commit()\n",
    "    except sqlite3.Error as e:\n",
    "        print(\"Error executing the query:\", e)\n",
    "    finally:\n",
    "        if connection is not None:\n",
    "            connection.close()\n",
    "    if result is None:\n",
    "        return \"No hay salida...\"\n",
    "    return result\n",
    "\n",
    "def simple_query_run(query):\n",
    "    connection = None\n",
    "    try:\n",
    "        connection = sqlite3.connect(database)\n",
    "        cursor = connection.cursor()\n",
    "        cursor.execute(query)\n",
    "        connection.commit()\n",
    "    except sqlite3.Error as e:\n",
    "        print(\"Error executing the query:\", e)\n",
    "    finally:\n",
    "        if connection is not None:\n",
    "            connection.close()"
   ]
  },
  {
   "cell_type": "code",
   "execution_count": 12,
   "metadata": {},
   "outputs": [
    {
     "name": "stdout",
     "output_type": "stream",
     "text": [
      "                tipo               descripcion\n",
      "0             asalto               arma blanca\n",
      "1             asalto               arma blanca\n",
      "2              hurto                carterista\n",
      "3              hurto  ardid previo/distraccion\n",
      "4  tacha de vehiculo         tacha de vehiculo\n",
      "5             asalto               desconocido\n",
      "6               robo                 forzadura\n",
      "7  tacha de vehiculo         tacha de vehiculo\n",
      "8             asalto             arma de fuego\n",
      "9             asalto             arma de fuego\n"
     ]
    }
   ],
   "source": [
    "# Description and type of crime, of the first 10 crimes of district 10301 (Desamparados, of Desamparados).\n",
    "# Descripción y tipo de crimen, de los primeros 10 crímenes del distrito 10301 (Desamparados, de Desamparados).\n",
    "print(result_query_run(\"SELECT crimen.tipo, crimen.descripcion FROM crimen WHERE crimen.id_distrito = 10301 LIMIT 10\"))"
   ]
  },
  {
   "cell_type": "code",
   "execution_count": 11,
   "metadata": {},
   "outputs": [
    {
     "name": "stdout",
     "output_type": "stream",
     "text": [
      "      tipo    descripcion\n",
      "0     robo      forzadura\n",
      "1     robo      forzadura\n",
      "2     robo      forzadura\n",
      "3     robo      forzadura\n",
      "4     robo      forzadura\n",
      "5     robo      forzadura\n",
      "6     robo      forzadura\n",
      "7     robo      forzadura\n",
      "8     robo      forzadura\n",
      "9     robo      forzadura\n",
      "10    robo      forzadura\n",
      "11   hurto     carterista\n",
      "12   hurto     carterista\n",
      "13   hurto     carterista\n",
      "14  asalto  arma de fuego\n"
     ]
    }
   ],
   "source": [
    "# Type of crime and description, of the first 15 crimes that occurred on Christmas 2022.\n",
    "# Tipo de crimen y descripción, de los primeros 15 crímenes ocurridos en Navidad del 2022.\n",
    "print(result_query_run(\"SELECT crimen.tipo, crimen.descripcion FROM crimen WHERE crimen.fecha = '2022-12-25' LIMIT 15\"))"
   ]
  },
  {
   "cell_type": "code",
   "execution_count": 21,
   "metadata": {},
   "outputs": [
    {
     "name": "stdout",
     "output_type": "stream",
     "text": [
      "   id_crimen       fecha    nacionalidad\n",
      "0         87  2020-01-01   corea del sur\n",
      "1       2079  2020-01-15       nicaragua\n",
      "2      34855  2020-11-23  estados unidos\n"
     ]
    }
   ],
   "source": [
    "# Identification and date of the crime, and nationality of the victim of all assaults occurred to non-Costa Ricans, of legal age, in Tamarindo, Guanacaste, during 2020.\n",
    "# Identificación y fecha del crimen, y nacionalidad de la víctima de todos los asaltos ocurridos a no costarricenses, adultos mayores y mayores de edad, en Tamarindo, Guanacaste, durante el 2020.\n",
    "print(result_query_run(\n",
    "    \"\"\"\n",
    "    SELECT crimen.id_crimen, crimen.fecha, victima.nacionalidad \n",
    "    FROM crimen, victima, crimen_victima\n",
    "    WHERE crimen.id_crimen = crimen_victima.id_crimen AND\n",
    "    crimen_victima.id_victima = victima.id_victima AND\n",
    "    crimen.tipo = 'asalto' AND\n",
    "    crimen.id_distrito = 50309 AND\n",
    "    crimen.fecha BETWEEN '2020-01-01' AND '2020-12-31' AND\n",
    "    victima.nacionalidad != 'costa rica' AND\n",
    "    (victima.grupo_etario = 'AAMM' OR \n",
    "    victima.grupo_etario = 'MAEE')\n",
    "    \"\"\"\n",
    "))"
   ]
  }
 ],
 "metadata": {
  "kernelspec": {
   "display_name": "Python 3",
   "language": "python",
   "name": "python3"
  },
  "language_info": {
   "codemirror_mode": {
    "name": "ipython",
    "version": 3
   },
   "file_extension": ".py",
   "mimetype": "text/x-python",
   "name": "python",
   "nbconvert_exporter": "python",
   "pygments_lexer": "ipython3",
   "version": "3.11.2"
  },
  "orig_nbformat": 4
 },
 "nbformat": 4,
 "nbformat_minor": 2
}
